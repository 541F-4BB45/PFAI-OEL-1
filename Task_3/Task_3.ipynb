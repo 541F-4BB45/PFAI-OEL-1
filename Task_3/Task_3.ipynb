{
 "cells": [
  {
   "cell_type": "markdown",
   "id": "d44b9b90-483f-44a7-b616-629c045744c3",
   "metadata": {},
   "source": [
    "## Load the dataset into R."
   ]
  },
  {
   "cell_type": "code",
   "execution_count": 9,
   "id": "94a5addd-7694-45e9-8767-095325d5c89a",
   "metadata": {},
   "outputs": [],
   "source": [
    "dataset <- read.csv(\"dataset_3.csv\", header=TRUE, stringsAsFactors=FALSE)"
   ]
  },
  {
   "cell_type": "code",
   "execution_count": 10,
   "id": "ab4516d4-642a-4244-9599-6d83d0f4ee53",
   "metadata": {},
   "outputs": [
    {
     "data": {
      "text/html": [
       "<table class=\"dataframe\">\n",
       "<caption>A data.frame: 6 × 8</caption>\n",
       "<thead>\n",
       "\t<tr><th></th><th scope=col>Invoice</th><th scope=col>StockCode</th><th scope=col>Description</th><th scope=col>Quantity</th><th scope=col>InvoiceDate</th><th scope=col>Price</th><th scope=col>Customer.ID</th><th scope=col>Country</th></tr>\n",
       "\t<tr><th></th><th scope=col>&lt;chr&gt;</th><th scope=col>&lt;chr&gt;</th><th scope=col>&lt;chr&gt;</th><th scope=col>&lt;int&gt;</th><th scope=col>&lt;chr&gt;</th><th scope=col>&lt;dbl&gt;</th><th scope=col>&lt;int&gt;</th><th scope=col>&lt;chr&gt;</th></tr>\n",
       "</thead>\n",
       "<tbody>\n",
       "\t<tr><th scope=row>1</th><td>489434</td><td>85048 </td><td>15CM CHRISTMAS GLASS BALL 20 LIGHTS</td><td>12</td><td>12/1/2009 7:45</td><td>6.95</td><td>13085</td><td>United Kingdom</td></tr>\n",
       "\t<tr><th scope=row>2</th><td>489434</td><td>79323P</td><td>PINK CHERRY LIGHTS                 </td><td>12</td><td>12/1/2009 7:45</td><td>6.75</td><td>13085</td><td>United Kingdom</td></tr>\n",
       "\t<tr><th scope=row>3</th><td>489434</td><td>79323W</td><td> WHITE CHERRY LIGHTS               </td><td>12</td><td>12/1/2009 7:45</td><td>6.75</td><td>13085</td><td>United Kingdom</td></tr>\n",
       "\t<tr><th scope=row>4</th><td>489434</td><td>22041 </td><td>RECORD FRAME 7\" SINGLE SIZE        </td><td>48</td><td>12/1/2009 7:45</td><td>2.10</td><td>13085</td><td>United Kingdom</td></tr>\n",
       "\t<tr><th scope=row>5</th><td>489434</td><td>21232 </td><td>STRAWBERRY CERAMIC TRINKET BOX     </td><td>24</td><td>12/1/2009 7:45</td><td>1.25</td><td>13085</td><td>United Kingdom</td></tr>\n",
       "\t<tr><th scope=row>6</th><td>489434</td><td>22064 </td><td>PINK DOUGHNUT TRINKET POT          </td><td>24</td><td>12/1/2009 7:45</td><td>1.65</td><td>13085</td><td>United Kingdom</td></tr>\n",
       "</tbody>\n",
       "</table>\n"
      ],
      "text/latex": [
       "A data.frame: 6 × 8\n",
       "\\begin{tabular}{r|llllllll}\n",
       "  & Invoice & StockCode & Description & Quantity & InvoiceDate & Price & Customer.ID & Country\\\\\n",
       "  & <chr> & <chr> & <chr> & <int> & <chr> & <dbl> & <int> & <chr>\\\\\n",
       "\\hline\n",
       "\t1 & 489434 & 85048  & 15CM CHRISTMAS GLASS BALL 20 LIGHTS & 12 & 12/1/2009 7:45 & 6.95 & 13085 & United Kingdom\\\\\n",
       "\t2 & 489434 & 79323P & PINK CHERRY LIGHTS                  & 12 & 12/1/2009 7:45 & 6.75 & 13085 & United Kingdom\\\\\n",
       "\t3 & 489434 & 79323W &  WHITE CHERRY LIGHTS                & 12 & 12/1/2009 7:45 & 6.75 & 13085 & United Kingdom\\\\\n",
       "\t4 & 489434 & 22041  & RECORD FRAME 7\" SINGLE SIZE         & 48 & 12/1/2009 7:45 & 2.10 & 13085 & United Kingdom\\\\\n",
       "\t5 & 489434 & 21232  & STRAWBERRY CERAMIC TRINKET BOX      & 24 & 12/1/2009 7:45 & 1.25 & 13085 & United Kingdom\\\\\n",
       "\t6 & 489434 & 22064  & PINK DOUGHNUT TRINKET POT           & 24 & 12/1/2009 7:45 & 1.65 & 13085 & United Kingdom\\\\\n",
       "\\end{tabular}\n"
      ],
      "text/markdown": [
       "\n",
       "A data.frame: 6 × 8\n",
       "\n",
       "| <!--/--> | Invoice &lt;chr&gt; | StockCode &lt;chr&gt; | Description &lt;chr&gt; | Quantity &lt;int&gt; | InvoiceDate &lt;chr&gt; | Price &lt;dbl&gt; | Customer.ID &lt;int&gt; | Country &lt;chr&gt; |\n",
       "|---|---|---|---|---|---|---|---|---|\n",
       "| 1 | 489434 | 85048  | 15CM CHRISTMAS GLASS BALL 20 LIGHTS | 12 | 12/1/2009 7:45 | 6.95 | 13085 | United Kingdom |\n",
       "| 2 | 489434 | 79323P | PINK CHERRY LIGHTS                  | 12 | 12/1/2009 7:45 | 6.75 | 13085 | United Kingdom |\n",
       "| 3 | 489434 | 79323W |  WHITE CHERRY LIGHTS                | 12 | 12/1/2009 7:45 | 6.75 | 13085 | United Kingdom |\n",
       "| 4 | 489434 | 22041  | RECORD FRAME 7\" SINGLE SIZE         | 48 | 12/1/2009 7:45 | 2.10 | 13085 | United Kingdom |\n",
       "| 5 | 489434 | 21232  | STRAWBERRY CERAMIC TRINKET BOX      | 24 | 12/1/2009 7:45 | 1.25 | 13085 | United Kingdom |\n",
       "| 6 | 489434 | 22064  | PINK DOUGHNUT TRINKET POT           | 24 | 12/1/2009 7:45 | 1.65 | 13085 | United Kingdom |\n",
       "\n"
      ],
      "text/plain": [
       "  Invoice StockCode Description                         Quantity InvoiceDate   \n",
       "1 489434  85048     15CM CHRISTMAS GLASS BALL 20 LIGHTS 12       12/1/2009 7:45\n",
       "2 489434  79323P    PINK CHERRY LIGHTS                  12       12/1/2009 7:45\n",
       "3 489434  79323W     WHITE CHERRY LIGHTS                12       12/1/2009 7:45\n",
       "4 489434  22041     RECORD FRAME 7\" SINGLE SIZE         48       12/1/2009 7:45\n",
       "5 489434  21232     STRAWBERRY CERAMIC TRINKET BOX      24       12/1/2009 7:45\n",
       "6 489434  22064     PINK DOUGHNUT TRINKET POT           24       12/1/2009 7:45\n",
       "  Price Customer.ID Country       \n",
       "1 6.95  13085       United Kingdom\n",
       "2 6.75  13085       United Kingdom\n",
       "3 6.75  13085       United Kingdom\n",
       "4 2.10  13085       United Kingdom\n",
       "5 1.25  13085       United Kingdom\n",
       "6 1.65  13085       United Kingdom"
      ]
     },
     "metadata": {},
     "output_type": "display_data"
    }
   ],
   "source": [
    "head(dataset)"
   ]
  },
  {
   "cell_type": "code",
   "execution_count": 11,
   "id": "5d0557b7-2f96-4fb4-a155-ee273c20622a",
   "metadata": {},
   "outputs": [
    {
     "name": "stdout",
     "output_type": "stream",
     "text": [
      "'data.frame':\t525461 obs. of  8 variables:\n",
      " $ Invoice    : chr  \"489434\" \"489434\" \"489434\" \"489434\" ...\n",
      " $ StockCode  : chr  \"85048\" \"79323P\" \"79323W\" \"22041\" ...\n",
      " $ Description: chr  \"15CM CHRISTMAS GLASS BALL 20 LIGHTS\" \"PINK CHERRY LIGHTS\" \" WHITE CHERRY LIGHTS\" \"RECORD FRAME 7\\\" SINGLE SIZE \" ...\n",
      " $ Quantity   : int  12 12 12 48 24 24 24 10 12 12 ...\n",
      " $ InvoiceDate: chr  \"12/1/2009 7:45\" \"12/1/2009 7:45\" \"12/1/2009 7:45\" \"12/1/2009 7:45\" ...\n",
      " $ Price      : num  6.95 6.75 6.75 2.1 1.25 1.65 1.25 5.95 2.55 3.75 ...\n",
      " $ Customer.ID: int  13085 13085 13085 13085 13085 13085 13085 13085 13085 13085 ...\n",
      " $ Country    : chr  \"United Kingdom\" \"United Kingdom\" \"United Kingdom\" \"United Kingdom\" ...\n"
     ]
    }
   ],
   "source": [
    "str(dataset)"
   ]
  },
  {
   "cell_type": "code",
   "execution_count": 15,
   "id": "f9b2161e-ff84-4f7e-8c29-32a107b5b95c",
   "metadata": {},
   "outputs": [
    {
     "data": {
      "text/html": [
       "<style>\n",
       ".list-inline {list-style: none; margin:0; padding: 0}\n",
       ".list-inline>li {display: inline-block}\n",
       ".list-inline>li:not(:last-child)::after {content: \"\\00b7\"; padding: 0 .5ex}\n",
       "</style>\n",
       "<ol class=list-inline><li>'Invoice'</li><li>'StockCode'</li><li>'Description'</li><li>'Quantity'</li><li>'InvoiceDate'</li><li>'Price'</li><li>'Customer.ID'</li><li>'Country'</li></ol>\n"
      ],
      "text/latex": [
       "\\begin{enumerate*}\n",
       "\\item 'Invoice'\n",
       "\\item 'StockCode'\n",
       "\\item 'Description'\n",
       "\\item 'Quantity'\n",
       "\\item 'InvoiceDate'\n",
       "\\item 'Price'\n",
       "\\item 'Customer.ID'\n",
       "\\item 'Country'\n",
       "\\end{enumerate*}\n"
      ],
      "text/markdown": [
       "1. 'Invoice'\n",
       "2. 'StockCode'\n",
       "3. 'Description'\n",
       "4. 'Quantity'\n",
       "5. 'InvoiceDate'\n",
       "6. 'Price'\n",
       "7. 'Customer.ID'\n",
       "8. 'Country'\n",
       "\n",
       "\n"
      ],
      "text/plain": [
       "[1] \"Invoice\"     \"StockCode\"   \"Description\" \"Quantity\"    \"InvoiceDate\"\n",
       "[6] \"Price\"       \"Customer.ID\" \"Country\"    "
      ]
     },
     "metadata": {},
     "output_type": "display_data"
    }
   ],
   "source": [
    "colnames(dataset)"
   ]
  },
  {
   "cell_type": "code",
   "execution_count": 16,
   "id": "cff99e06-003d-42e7-b717-fae597e02c13",
   "metadata": {},
   "outputs": [],
   "source": [
    "colnames(dataset)[7] = \"CustomerID\""
   ]
  },
  {
   "cell_type": "code",
   "execution_count": 17,
   "id": "3e26b12f-a199-4c54-a035-6352eba5150b",
   "metadata": {},
   "outputs": [
    {
     "data": {
      "text/html": [
       "<table class=\"dataframe\">\n",
       "<caption>A data.frame: 6 × 8</caption>\n",
       "<thead>\n",
       "\t<tr><th></th><th scope=col>Invoice</th><th scope=col>StockCode</th><th scope=col>Description</th><th scope=col>Quantity</th><th scope=col>InvoiceDate</th><th scope=col>Price</th><th scope=col>CustomerID</th><th scope=col>Country</th></tr>\n",
       "\t<tr><th></th><th scope=col>&lt;chr&gt;</th><th scope=col>&lt;chr&gt;</th><th scope=col>&lt;chr&gt;</th><th scope=col>&lt;int&gt;</th><th scope=col>&lt;chr&gt;</th><th scope=col>&lt;dbl&gt;</th><th scope=col>&lt;int&gt;</th><th scope=col>&lt;chr&gt;</th></tr>\n",
       "</thead>\n",
       "<tbody>\n",
       "\t<tr><th scope=row>1</th><td>489434</td><td>85048 </td><td>15CM CHRISTMAS GLASS BALL 20 LIGHTS</td><td>12</td><td>12/1/2009 7:45</td><td>6.95</td><td>13085</td><td>United Kingdom</td></tr>\n",
       "\t<tr><th scope=row>2</th><td>489434</td><td>79323P</td><td>PINK CHERRY LIGHTS                 </td><td>12</td><td>12/1/2009 7:45</td><td>6.75</td><td>13085</td><td>United Kingdom</td></tr>\n",
       "\t<tr><th scope=row>3</th><td>489434</td><td>79323W</td><td> WHITE CHERRY LIGHTS               </td><td>12</td><td>12/1/2009 7:45</td><td>6.75</td><td>13085</td><td>United Kingdom</td></tr>\n",
       "\t<tr><th scope=row>4</th><td>489434</td><td>22041 </td><td>RECORD FRAME 7\" SINGLE SIZE        </td><td>48</td><td>12/1/2009 7:45</td><td>2.10</td><td>13085</td><td>United Kingdom</td></tr>\n",
       "\t<tr><th scope=row>5</th><td>489434</td><td>21232 </td><td>STRAWBERRY CERAMIC TRINKET BOX     </td><td>24</td><td>12/1/2009 7:45</td><td>1.25</td><td>13085</td><td>United Kingdom</td></tr>\n",
       "\t<tr><th scope=row>6</th><td>489434</td><td>22064 </td><td>PINK DOUGHNUT TRINKET POT          </td><td>24</td><td>12/1/2009 7:45</td><td>1.65</td><td>13085</td><td>United Kingdom</td></tr>\n",
       "</tbody>\n",
       "</table>\n"
      ],
      "text/latex": [
       "A data.frame: 6 × 8\n",
       "\\begin{tabular}{r|llllllll}\n",
       "  & Invoice & StockCode & Description & Quantity & InvoiceDate & Price & CustomerID & Country\\\\\n",
       "  & <chr> & <chr> & <chr> & <int> & <chr> & <dbl> & <int> & <chr>\\\\\n",
       "\\hline\n",
       "\t1 & 489434 & 85048  & 15CM CHRISTMAS GLASS BALL 20 LIGHTS & 12 & 12/1/2009 7:45 & 6.95 & 13085 & United Kingdom\\\\\n",
       "\t2 & 489434 & 79323P & PINK CHERRY LIGHTS                  & 12 & 12/1/2009 7:45 & 6.75 & 13085 & United Kingdom\\\\\n",
       "\t3 & 489434 & 79323W &  WHITE CHERRY LIGHTS                & 12 & 12/1/2009 7:45 & 6.75 & 13085 & United Kingdom\\\\\n",
       "\t4 & 489434 & 22041  & RECORD FRAME 7\" SINGLE SIZE         & 48 & 12/1/2009 7:45 & 2.10 & 13085 & United Kingdom\\\\\n",
       "\t5 & 489434 & 21232  & STRAWBERRY CERAMIC TRINKET BOX      & 24 & 12/1/2009 7:45 & 1.25 & 13085 & United Kingdom\\\\\n",
       "\t6 & 489434 & 22064  & PINK DOUGHNUT TRINKET POT           & 24 & 12/1/2009 7:45 & 1.65 & 13085 & United Kingdom\\\\\n",
       "\\end{tabular}\n"
      ],
      "text/markdown": [
       "\n",
       "A data.frame: 6 × 8\n",
       "\n",
       "| <!--/--> | Invoice &lt;chr&gt; | StockCode &lt;chr&gt; | Description &lt;chr&gt; | Quantity &lt;int&gt; | InvoiceDate &lt;chr&gt; | Price &lt;dbl&gt; | CustomerID &lt;int&gt; | Country &lt;chr&gt; |\n",
       "|---|---|---|---|---|---|---|---|---|\n",
       "| 1 | 489434 | 85048  | 15CM CHRISTMAS GLASS BALL 20 LIGHTS | 12 | 12/1/2009 7:45 | 6.95 | 13085 | United Kingdom |\n",
       "| 2 | 489434 | 79323P | PINK CHERRY LIGHTS                  | 12 | 12/1/2009 7:45 | 6.75 | 13085 | United Kingdom |\n",
       "| 3 | 489434 | 79323W |  WHITE CHERRY LIGHTS                | 12 | 12/1/2009 7:45 | 6.75 | 13085 | United Kingdom |\n",
       "| 4 | 489434 | 22041  | RECORD FRAME 7\" SINGLE SIZE         | 48 | 12/1/2009 7:45 | 2.10 | 13085 | United Kingdom |\n",
       "| 5 | 489434 | 21232  | STRAWBERRY CERAMIC TRINKET BOX      | 24 | 12/1/2009 7:45 | 1.25 | 13085 | United Kingdom |\n",
       "| 6 | 489434 | 22064  | PINK DOUGHNUT TRINKET POT           | 24 | 12/1/2009 7:45 | 1.65 | 13085 | United Kingdom |\n",
       "\n"
      ],
      "text/plain": [
       "  Invoice StockCode Description                         Quantity InvoiceDate   \n",
       "1 489434  85048     15CM CHRISTMAS GLASS BALL 20 LIGHTS 12       12/1/2009 7:45\n",
       "2 489434  79323P    PINK CHERRY LIGHTS                  12       12/1/2009 7:45\n",
       "3 489434  79323W     WHITE CHERRY LIGHTS                12       12/1/2009 7:45\n",
       "4 489434  22041     RECORD FRAME 7\" SINGLE SIZE         48       12/1/2009 7:45\n",
       "5 489434  21232     STRAWBERRY CERAMIC TRINKET BOX      24       12/1/2009 7:45\n",
       "6 489434  22064     PINK DOUGHNUT TRINKET POT           24       12/1/2009 7:45\n",
       "  Price CustomerID Country       \n",
       "1 6.95  13085      United Kingdom\n",
       "2 6.75  13085      United Kingdom\n",
       "3 6.75  13085      United Kingdom\n",
       "4 2.10  13085      United Kingdom\n",
       "5 1.25  13085      United Kingdom\n",
       "6 1.65  13085      United Kingdom"
      ]
     },
     "metadata": {},
     "output_type": "display_data"
    }
   ],
   "source": [
    "head(dataset)"
   ]
  },
  {
   "cell_type": "markdown",
   "id": "3e6b903a-dcbd-45ea-84d6-ac4ddfa6e550",
   "metadata": {},
   "source": [
    "## Remove rows with missing CustomerID"
   ]
  },
  {
   "cell_type": "code",
   "execution_count": 24,
   "id": "f54c0967-401b-4ab7-bf99-29794bf48609",
   "metadata": {},
   "outputs": [
    {
     "data": {
      "text/html": [
       "0"
      ],
      "text/latex": [
       "0"
      ],
      "text/markdown": [
       "0"
      ],
      "text/plain": [
       "[1] 0"
      ]
     },
     "metadata": {},
     "output_type": "display_data"
    }
   ],
   "source": [
    "sum(is.na(dataset$CustomerID))"
   ]
  },
  {
   "cell_type": "code",
   "execution_count": 20,
   "id": "f14b3998-6a6d-4c8f-991f-ecb04872cc4c",
   "metadata": {},
   "outputs": [],
   "source": [
    "dataset <- dataset[!is.na(dataset$CustomerID), ]"
   ]
  },
  {
   "cell_type": "code",
   "execution_count": 25,
   "id": "75cd8547-9ee2-4ae9-8624-fcfb0b975036",
   "metadata": {},
   "outputs": [
    {
     "data": {
      "text/html": [
       "0"
      ],
      "text/latex": [
       "0"
      ],
      "text/markdown": [
       "0"
      ],
      "text/plain": [
       "[1] 0"
      ]
     },
     "metadata": {},
     "output_type": "display_data"
    }
   ],
   "source": [
    "sum(is.na(dataset$CustomerID))"
   ]
  },
  {
   "cell_type": "markdown",
   "id": "3cf9d362-cdeb-4aad-b21b-069027db98b3",
   "metadata": {},
   "source": [
    "## Replace missing values in UnitPrice and Quantity with their median."
   ]
  },
  {
   "cell_type": "code",
   "execution_count": 29,
   "id": "a5375b34-b28d-4e25-ad3b-753d696f991a",
   "metadata": {},
   "outputs": [
    {
     "data": {
      "text/html": [
       "0"
      ],
      "text/latex": [
       "0"
      ],
      "text/markdown": [
       "0"
      ],
      "text/plain": [
       "[1] 0"
      ]
     },
     "metadata": {},
     "output_type": "display_data"
    },
    {
     "data": {
      "text/html": [
       "0"
      ],
      "text/latex": [
       "0"
      ],
      "text/markdown": [
       "0"
      ],
      "text/plain": [
       "[1] 0"
      ]
     },
     "metadata": {},
     "output_type": "display_data"
    }
   ],
   "source": [
    "sum(is.na(dataset$Price))\n",
    "sum(is.na(dataset$Quantity))"
   ]
  },
  {
   "cell_type": "code",
   "execution_count": 23,
   "id": "9705d0a1-c12e-461d-bca4-1b2705135fcb",
   "metadata": {},
   "outputs": [],
   "source": [
    "dataset$Price[is.na(dataset$Price)] <- median(dataset$Price, na.rm = TRUE)\n",
    "dataset$Quantity[is.na(dataset$Quantity)] <- median(dataset$Quantity, na.rm = TRUE)"
   ]
  },
  {
   "cell_type": "markdown",
   "id": "93dcaead-7104-40a6-95ca-bf278cbc33ad",
   "metadata": {},
   "source": [
    "## Save the cleaned dataset"
   ]
  },
  {
   "cell_type": "code",
   "execution_count": 27,
   "id": "5fad8e4a-b6e4-49b6-b8ba-3061736ff556",
   "metadata": {},
   "outputs": [],
   "source": [
    "write.csv(dataset, file = \"processed_online_retail.csv\", row.names = FALSE)"
   ]
  }
 ],
 "metadata": {
  "kernelspec": {
   "display_name": "R",
   "language": "R",
   "name": "ir"
  },
  "language_info": {
   "codemirror_mode": "r",
   "file_extension": ".r",
   "mimetype": "text/x-r-source",
   "name": "R",
   "pygments_lexer": "r",
   "version": "4.4.3"
  }
 },
 "nbformat": 4,
 "nbformat_minor": 5
}
